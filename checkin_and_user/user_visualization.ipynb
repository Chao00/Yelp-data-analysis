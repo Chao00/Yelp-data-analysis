{
 "cells": [
  {
   "cell_type": "code",
   "execution_count": 30,
   "metadata": {},
   "outputs": [],
   "source": [
    "import numpy as np\n",
    "import pandas as pd\n",
    "from matplotlib import cm\n",
    "import matplotlib.pyplot as plt\n",
    "\n",
    "%matplotlib inline"
   ]
  },
  {
   "cell_type": "code",
   "execution_count": 3,
   "metadata": {},
   "outputs": [],
   "source": [
    "top_users = pd.read_csv(\"../../data/top_user_list.csv\").set_index('name')"
   ]
  },
  {
   "cell_type": "code",
   "execution_count": 4,
   "metadata": {},
   "outputs": [
    {
     "data": {
      "text/html": [
       "<div>\n",
       "<style scoped>\n",
       "    .dataframe tbody tr th:only-of-type {\n",
       "        vertical-align: middle;\n",
       "    }\n",
       "\n",
       "    .dataframe tbody tr th {\n",
       "        vertical-align: top;\n",
       "    }\n",
       "\n",
       "    .dataframe thead th {\n",
       "        text-align: right;\n",
       "    }\n",
       "</style>\n",
       "<table border=\"1\" class=\"dataframe\">\n",
       "  <thead>\n",
       "    <tr style=\"text-align: right;\">\n",
       "      <th></th>\n",
       "      <th>user_id</th>\n",
       "      <th>review_count</th>\n",
       "      <th>fans</th>\n",
       "      <th>compliment_funny</th>\n",
       "      <th>compliment_hot</th>\n",
       "      <th>compliment_cute</th>\n",
       "    </tr>\n",
       "    <tr>\n",
       "      <th>name</th>\n",
       "      <th></th>\n",
       "      <th></th>\n",
       "      <th></th>\n",
       "      <th></th>\n",
       "      <th></th>\n",
       "      <th></th>\n",
       "    </tr>\n",
       "  </thead>\n",
       "  <tbody>\n",
       "    <tr>\n",
       "      <th>Gabi</th>\n",
       "      <td>dIIKEfOgo0KqUfGQvGikPg</td>\n",
       "      <td>2061</td>\n",
       "      <td>971</td>\n",
       "      <td>2169</td>\n",
       "      <td>1587</td>\n",
       "      <td>231</td>\n",
       "    </tr>\n",
       "    <tr>\n",
       "      <th>Emi</th>\n",
       "      <td>fgwI3rYHOv1ipfVfCSx7pg</td>\n",
       "      <td>1847</td>\n",
       "      <td>2113</td>\n",
       "      <td>5956</td>\n",
       "      <td>4092</td>\n",
       "      <td>226</td>\n",
       "    </tr>\n",
       "    <tr>\n",
       "      <th>Mike</th>\n",
       "      <td>opPpHVIp8SKHMJg3_y5Lew</td>\n",
       "      <td>1462</td>\n",
       "      <td>137</td>\n",
       "      <td>1154</td>\n",
       "      <td>775</td>\n",
       "      <td>43</td>\n",
       "    </tr>\n",
       "    <tr>\n",
       "      <th>Jenna</th>\n",
       "      <td>kxj7TPtJY2zbEjGV0PYfAA</td>\n",
       "      <td>1399</td>\n",
       "      <td>89</td>\n",
       "      <td>390</td>\n",
       "      <td>394</td>\n",
       "      <td>34</td>\n",
       "    </tr>\n",
       "    <tr>\n",
       "      <th>Tricia</th>\n",
       "      <td>4mjnkd8oJVCfBKN3i4rB-g</td>\n",
       "      <td>1247</td>\n",
       "      <td>141</td>\n",
       "      <td>227</td>\n",
       "      <td>173</td>\n",
       "      <td>15</td>\n",
       "    </tr>\n",
       "    <tr>\n",
       "      <th>Jane</th>\n",
       "      <td>q_QQ5kBBwlCcbL1s4NVK3g</td>\n",
       "      <td>1218</td>\n",
       "      <td>1354</td>\n",
       "      <td>2539</td>\n",
       "      <td>1708</td>\n",
       "      <td>361</td>\n",
       "    </tr>\n",
       "    <tr>\n",
       "      <th>Steven</th>\n",
       "      <td>fcNU65OaCj7slBJ60VSQgw</td>\n",
       "      <td>1204</td>\n",
       "      <td>89</td>\n",
       "      <td>183</td>\n",
       "      <td>66</td>\n",
       "      <td>6</td>\n",
       "    </tr>\n",
       "    <tr>\n",
       "      <th>Kat</th>\n",
       "      <td>JnPIjvC0cmooNDfsa9BmXg</td>\n",
       "      <td>988</td>\n",
       "      <td>419</td>\n",
       "      <td>1566</td>\n",
       "      <td>1180</td>\n",
       "      <td>219</td>\n",
       "    </tr>\n",
       "    <tr>\n",
       "      <th>Jamie</th>\n",
       "      <td>ox0DtIS-AzUiVeGFkIvlMQ</td>\n",
       "      <td>938</td>\n",
       "      <td>108</td>\n",
       "      <td>171</td>\n",
       "      <td>97</td>\n",
       "      <td>1</td>\n",
       "    </tr>\n",
       "    <tr>\n",
       "      <th>Sarah</th>\n",
       "      <td>60RKNAZwY5EUooJf624aKw</td>\n",
       "      <td>885</td>\n",
       "      <td>88</td>\n",
       "      <td>799</td>\n",
       "      <td>362</td>\n",
       "      <td>7</td>\n",
       "    </tr>\n",
       "  </tbody>\n",
       "</table>\n",
       "</div>"
      ],
      "text/plain": [
       "                       user_id  review_count  fans  compliment_funny  \\\n",
       "name                                                                   \n",
       "Gabi    dIIKEfOgo0KqUfGQvGikPg          2061   971              2169   \n",
       "Emi     fgwI3rYHOv1ipfVfCSx7pg          1847  2113              5956   \n",
       "Mike    opPpHVIp8SKHMJg3_y5Lew          1462   137              1154   \n",
       "Jenna   kxj7TPtJY2zbEjGV0PYfAA          1399    89               390   \n",
       "Tricia  4mjnkd8oJVCfBKN3i4rB-g          1247   141               227   \n",
       "Jane    q_QQ5kBBwlCcbL1s4NVK3g          1218  1354              2539   \n",
       "Steven  fcNU65OaCj7slBJ60VSQgw          1204    89               183   \n",
       "Kat     JnPIjvC0cmooNDfsa9BmXg           988   419              1566   \n",
       "Jamie   ox0DtIS-AzUiVeGFkIvlMQ           938   108               171   \n",
       "Sarah   60RKNAZwY5EUooJf624aKw           885    88               799   \n",
       "\n",
       "        compliment_hot  compliment_cute  \n",
       "name                                     \n",
       "Gabi              1587              231  \n",
       "Emi               4092              226  \n",
       "Mike               775               43  \n",
       "Jenna              394               34  \n",
       "Tricia             173               15  \n",
       "Jane              1708              361  \n",
       "Steven              66                6  \n",
       "Kat               1180              219  \n",
       "Jamie               97                1  \n",
       "Sarah              362                7  "
      ]
     },
     "execution_count": 4,
     "metadata": {},
     "output_type": "execute_result"
    }
   ],
   "source": [
    "top_users"
   ]
  },
  {
   "cell_type": "code",
   "execution_count": 61,
   "metadata": {},
   "outputs": [
    {
     "data": {
      "text/plain": [
       "<AxesSubplot:ylabel='compliments of reviews'>"
      ]
     },
     "execution_count": 61,
     "metadata": {},
     "output_type": "execute_result"
    },
    {
     "data": {
      "image/png": "[encoded data removed]",
      "text/plain": [
       "<Figure size 720x864 with 3 Axes>"
      ]
     },
     "metadata": {
      "needs_background": "light"
     },
     "output_type": "display_data"
    }
   ],
   "source": [
    "figure, axes = plt.subplots(3, 1, figsize=(10,12),  sharex=True)\n",
    "max_fans = top_users['fans'].max()\n",
    "axes[0].set_ylabel(\"review counts\", fontsize=12)\n",
    "axes[1].set_ylabel(\"fans number\", fontsize=12)\n",
    "axes[2].set_ylabel(\"compliments of reviews\", fontsize=12)\n",
    "figure.suptitle(\"Top 10 Most Reviewed Users\", fontsize=20)\n",
    "\n",
    "top_users['review_count'].plot(kind='bar', color='red', ax=axes[0])\n",
    "top_users['fans'].plot(kind='bar', color='pink', ax=axes[1])\n",
    "top_users[['compliment_cute', 'compliment_hot', 'compliment_funny']].plot(kind='bar', ax=axes[2], xlabel=\"\", stacked=True, fontsize=15, rot=0)"
   ]
  }
 ],
 "metadata": {
  "kernelspec": {
   "display_name": "Python 3",
   "language": "python",
   "name": "python3"
  },
  "language_info": {
   "codemirror_mode": {
    "name": "ipython",
    "version": 3
   },
   "file_extension": ".py",
   "mimetype": "text/x-python",
   "name": "python",
   "nbconvert_exporter": "python",
   "pygments_lexer": "ipython3",
   "version": "3.8.5"
  }
 },
 "nbformat": 4,
 "nbformat_minor": 4
}
