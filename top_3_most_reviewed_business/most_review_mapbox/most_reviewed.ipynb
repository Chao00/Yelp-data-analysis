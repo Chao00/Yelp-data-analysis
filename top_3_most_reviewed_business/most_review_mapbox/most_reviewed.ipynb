{
 "cells": [
  {
   "cell_type": "code",
   "execution_count": 0,
   "metadata": {
    "collapsed": false
   },
   "outputs": [
   ],
   "source": [
    "{\"business_id\":\"f9NumwFMBDn751xgFiRbNA\",\"name\":\"The Range At Lake Norman\",\"address\":\"10913 Bailey Rd\",\"city\":\"Cornelius\",\"state\":\"NC\",\"postal_code\":\"28031\",\"latitude\":35.4627242,\"longitude\":-80.8526119,\"stars\":3.5,\"review_count\":36,\"is_open\":1,\"attributes\":{\"BusinessAcceptsCreditCards\":\"True\",\"BikeParking\":\"True\",\"GoodForKids\":\"False\",\"BusinessParking\":\"{'garage': False, 'street': False, 'validated': False, 'lot': True, 'valet': False}\",\"ByAppointmentOnly\":\"False\",\"RestaurantsPriceRange2\":\"3\"},\"categories\":\"Active Life, Gun\\/Rifle Ranges, Guns & Ammo, Shopping\",\"hours\":{\"Monday\":\"10:0-18:0\",\"Tuesday\":\"11:0-20:0\",\"Wednesday\":\"10:0-18:0\",\"Thursday\":\"11:0-20:0\",\"Friday\":\"11:0-20:0\",\"Saturday\":\"11:0-20:0\",\"Sunday\":\"13:0-18:0\"}}\n",
    "{\"business_id\":\"Yzvjg0SayhoZgCljUJRF9Q\",\"name\":\"Carlos Santo, NMD\",\"address\":\"8880 E Via Linda, Ste 107\",\"city\":\"Scottsdale\",\"state\":\"AZ\",\"postal_code\":\"85258\",\"latitude\":33.5694041,\"longitude\":-111.8902637,\"stars\":5.0,\"review_count\":4,\"is_open\":1,\"attributes\":{\"GoodForKids\":\"True\",\"ByAppointmentOnly\":\"True\"},\"categories\":\"Health & Medical, Fitness & Instruction, Yoga, Active Life, Pilates\",\"hours\":null}\n",
    "{\"business_id\":\"XNoUzKckATkOD1hP6vghZg\",\"name\":\"Felinus\",\"address\":\"3554 Rue Notre-Dame O\",\"city\":\"Montreal\",\"state\":\"QC\",\"postal_code\":\"H4C 1P4\",\"latitude\":45.479984,\"longitude\":-73.58007,\"stars\":5.0,\"review_count\":5,\"is_open\":1,\"attributes\":null,\"categories\":\"Pets, Pet Services, Pet Groomers\",\"hours\":null}"
   ]
  },
  {
   "cell_type": "code",
   "execution_count": 0,
   "metadata": {
    "collapsed": false
   },
   "outputs": [
   ],
   "source": [
    "Analyze YELP business.json data\n",
    "Extract top-3 most-reviewed catering business in a certain city/state\n",
    "Catering business: \"Food\" \"Restaurants\" \"Nighlife\" categories"
   ]
  },
  {
   "cell_type": "code",
   "execution_count": 0,
   "metadata": {
    "collapsed": false
   },
   "outputs": [
   ],
   "source": [
    "window = Window.partitionBy(catering['city'], catering['state']).orderBy(catering['review_count'].desc())\n",
    "result = catering.select('*', rank().over(window).alias('rank')).filter(col('rank') <= 3).orderBy(catering['city'], catering['state'])"
   ]
  },
  {
   "cell_type": "code",
   "execution_count": 0,
   "metadata": {
    "collapsed": false
   },
   "outputs": [
   ],
   "source": [
    "{\"address\":\"4321 W Flamingo Rd\",\"attributes\":{\"Alcohol\":\"u'full_bar'\",\"Ambience\":\"{'touristy': False, 'hipster': False, 'romantic': False, 'divey': False, 'intimate': False, 'trendy': False, 'upscale': False, 'classy': True, 'casual': False}\",\"BikeParking\":\"True\",\"BusinessAcceptsCreditCards\":\"True\",\"BusinessParking\":\"{'garage': True, 'street': True, 'validated': False, 'lot': False, 'valet': True}\",\"Caters\":\"True\",\"DogsAllowed\":\"True\",\"GoodForKids\":\"True\",\"GoodForMeal\":\"{'dessert': None, 'latenight': None, 'lunch': None, 'dinner': True, 'brunch': None, 'breakfast': None}\",\"HappyHour\":\"True\",\"HasTV\":\"True\",\"NoiseLevel\":\"u'average'\",\"OutdoorSeating\":\"True\",\"RestaurantsAttire\":\"u'casual'\",\"RestaurantsDelivery\":\"False\",\"RestaurantsGoodForGroups\":\"True\",\"RestaurantsPriceRange2\":\"2\",\"RestaurantsReservations\":\"False\",\"RestaurantsTableService\":\"True\",\"RestaurantsTakeOut\":\"True\",\"WheelchairAccessible\":\"True\",\"WiFi\":\"u'free'\"},\"business_id\":\"B1nx3iQSafeHjN0uhpW4Kg\",\"categories\":\"Breakfast & Brunch, Barbeque, Restaurants\",\"city\":\"4321 W Flamingo Rd\",\"hours\":{\"Friday\":\"9:0-23:0\",\"Monday\":\"11:30-22:0\",\"Saturday\":\"9:0-23:0\",\"Sunday\":\"9:0-21:0\",\"Thursday\":\"9:0-22:0\",\"Tuesday\":\"11:30-22:0\",\"Wednesday\":\"11:30-22:0\"},\"is_open\":1,\"latitude\":36.1141275,\"longitude\":-115.1965118,\"name\":\"Mabel's BBQ\",\"postal_code\":\"89103\",\"review_count\":292,\"stars\":4.0,\"state\":\"NV\",\"rank\":1}\n",
    "{\"address\":\"2936 Finch Ave E\",\"attributes\":{\"Alcohol\":\"'none'\",\"Ambience\":\"{'romantic': False, 'intimate': False, 'classy': False, 'hipster': False, 'divey': False, 'touristy': False, 'trendy': False, 'upscale': False, 'casual': False}\",\"BikeParking\":\"True\",\"BusinessParking\":\"{'garage': False, 'street': False, 'validated': False, 'lot': False, 'valet': False}\",\"Caters\":\"False\",\"GoodForKids\":\"True\",\"HasTV\":\"True\",\"NoiseLevel\":\"'loud'\",\"OutdoorSeating\":\"False\",\"RestaurantsAttire\":\"'casual'\",\"RestaurantsDelivery\":\"False\",\"RestaurantsGoodForGroups\":\"True\",\"RestaurantsPriceRange2\":\"1\",\"RestaurantsReservations\":\"False\",\"RestaurantsTakeOut\":\"True\",\"WiFi\":\"'free'\"},\"business_id\":\"LixFCMGKdptI8WRsjAl5cQ\",\"categories\":\"Restaurants, Fast Food, Burgers, Food, Coffee & Tea\",\"city\":\"Agincourt\",\"hours\":{\"Friday\":\"0:0-0:0\",\"Monday\":\"0:0-0:0\",\"Saturday\":\"0:0-0:0\",\"Sunday\":\"0:0-0:0\",\"Thursday\":\"0:0-0:0\",\"Tuesday\":\"0:0-0:0\",\"Wednesday\":\"0:0-0:0\"},\"is_open\":1,\"latitude\":43.7942953,\"longitude\":-79.3299646,\"name\":\"McDonald's\",\"postal_code\":\"M1W 2T4\",\"review_count\":7,\"stars\":2.0,\"state\":\"ON\",\"rank\":1}\n",
    "{\"address\":\"3850 Sheppard Ave E Wal-Mart - Agincourt SC\",\"attributes\":{\"Alcohol\":\"u'none'\",\"Ambience\":\"{'touristy': False, 'hipster': False, 'romantic': False, 'intimate': False, 'trendy': False, 'upscale': False, 'classy': False, 'casual': False}\",\"BikeParking\":\"True\",\"BusinessParking\":\"None\",\"Caters\":\"False\",\"GoodForKids\":\"True\",\"GoodForMeal\":\"{'dessert': False, 'latenight': False, 'lunch': False, 'dinner': False, 'brunch': False, 'breakfast': True}\",\"HasTV\":\"True\",\"NoiseLevel\":\"u'very_loud'\",\"OutdoorSeating\":\"False\",\"RestaurantsAttire\":\"u'casual'\",\"RestaurantsDelivery\":\"False\",\"RestaurantsGoodForGroups\":\"True\",\"RestaurantsPriceRange2\":\"1\",\"RestaurantsReservations\":\"False\",\"RestaurantsTakeOut\":\"True\",\"WiFi\":\"u'free'\"},\"business_id\":\"U_ihDw5JhfmSKBUUkpEQqw\",\"categories\":\"Fast Food, Restaurants, Burgers, Food, Coffee & Tea\",\"city\":\"Agincourt\",\"hours\":{\"Friday\":\"7:0-11:0\",\"Monday\":\"7:0-11:0\",\"Saturday\":\"7:0-11:0\",\"Sunday\":\"7:0-11:0\",\"Thursday\":\"7:0-11:0\",\"Tuesday\":\"7:0-11:0\",\"Wednesday\":\"7:0-11:0\"},\"is_open\":1,\"latitude\":43.784517,\"longitude\":-79.291325,\"name\":\"McDonald's\",\"postal_code\":\"M1T 3L4\",\"review_count\":4,\"stars\":2.0,\"state\":\"ON\",\"rank\":2}"
   ]
  },
  {
   "cell_type": "code",
   "execution_count": 0,
   "metadata": {
    "collapsed": false
   },
   "outputs": [
   ],
   "source": [
    "Data Visulization\n",
    "Mapbox API\n",
    "convert result dataset into GeoJSON format"
   ]
  },
  {
   "cell_type": "code",
   "execution_count": 0,
   "metadata": {
    "collapsed": false
   },
   "outputs": [
   ],
   "source": [
    "{\n",
    "  \"type\": \"Feature\",\n",
    "  \"geometry\": {\n",
    "    \"type\": \"Point\",\n",
    "    \"coordinates\": [125.6, 10.1]\n",
    "  },\n",
    "  \"properties\": {\n",
    "    \"name\": \"Dinagat Islands\"\n",
    "  }\n",
    "}"
   ]
  },
  {
   "cell_type": "code",
   "execution_count": 0,
   "metadata": {
    "collapsed": false
   },
   "outputs": [
   ],
   "source": [
    "geojsonSchema = types.StructType([\n",
    "\ttypes.StructField('type', types.StringType()),\n",
    "    types.StructField('properties', \n",
    "        types.StructType([\n",
    "            types.StructField('business_id', types.StringType()),\n",
    "            types.StructField('name', types.StringType()),\n",
    "            types.StructField('categories', types.StringType()),\n",
    "            types.StructField('state', types.StringType()),\n",
    "            types.StructField('city', types.StringType()),\n",
    "            types.StructField('review_count', types.IntegerType()),\n",
    "            types.StructField('rank', types.IntegerType()),\n",
    "            types.StructField('stars', types.DoubleType()),\n",
    "            ])),\n",
    "    types.StructField('geometry',\n",
    "        types.StructType([\n",
    "            types.StructField('coordinates', types.ArrayType(types.DoubleType())),\n",
    "            types.StructField('type', types.StringType()),\n",
    "            ])),\n",
    "    ])"
   ]
  }
 ],
 "metadata": {
  "kernelspec": {
   "display_name": "Python 3 (system-wide)",
   "language": "python",
   "metadata": {
    "cocalc": {
     "description": "Python 3 programming language",
     "priority": 100,
     "url": "https://www.python.org/"
    }
   },
   "name": "python3",
   "resource_dir": "/ext/jupyter/kernels/python3"
  },
  "language_info": {
   "codemirror_mode": {
    "name": "ipython",
    "version": 3
   },
   "file_extension": ".py",
   "mimetype": "text/x-python",
   "name": "python",
   "nbconvert_exporter": "python",
   "pygments_lexer": "ipython3",
   "version": "3.8.5"
  }
 },
 "nbformat": 4,
 "nbformat_minor": 4
}