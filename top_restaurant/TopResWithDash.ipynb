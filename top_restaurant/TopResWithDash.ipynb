{
 "cells": [
  {
   "cell_type": "code",
   "execution_count": 1,
   "metadata": {},
   "outputs": [],
   "source": [
    "import pandas as pd\n",
    "import plotly.express as px\n",
    "import requests\n",
    "import dash\n",
    "import dash_core_components as dcc\n",
    "import dash_html_components as html\n",
    "from dash.dependencies import Input, Output\n",
    "import plotly.express as px"
   ]
  },
  {
   "cell_type": "markdown",
   "metadata": {},
   "source": [
    "### Packages\n",
    "* dash\n",
    "* dash-core-components\n",
    "* dash-html-components\n",
    "* dash-renderer\n",
    "* requests\n",
    "* pandas\n",
    "* plotly"
   ]
  },
  {
   "cell_type": "code",
   "execution_count": 2,
   "metadata": {},
   "outputs": [],
   "source": [
    "#for mac\n",
    "\"\"\"plot = pd.read_csv('mostViewedRes/part-00000-e7cc569e-0577-4169-8d5e-06d6f738266c-c000.csv',\\\n",
    "                   names=['name','categories','review_count','state','stars',\\\n",
    "                          'latitude','longitude','city','MaxReview'])\n",
    "\"\"\"\n",
    "#for windows\n",
    "plot = pd.read_csv('mostViewdRes\\\\part-00000-e7cc569e-0577-4169-8d5e-06d6f738266c-c000.csv',\\\n",
    "                   names=['name','categories','review_count','state','stars',\\\n",
    "                          'latitude','longitude','city','MaxReview'])"
   ]
  },
  {
   "cell_type": "code",
   "execution_count": 3,
   "metadata": {},
   "outputs": [],
   "source": [
    "#select state and drop duplicates\n",
    "state = plot['state'].drop_duplicates()\n",
    "#to array\n",
    "state_array = state.to_numpy()"
   ]
  },
  {
   "cell_type": "code",
   "execution_count": 4,
   "metadata": {},
   "outputs": [],
   "source": [
    "app = dash.Dash(__name__)\n",
    "server = app.server"
   ]
  },
  {
   "cell_type": "code",
   "execution_count": 5,
   "metadata": {},
   "outputs": [],
   "source": [
    "app.layout = html.Div([\n",
    "    dcc.Dropdown(\n",
    "        id = 'state_choice',\n",
    "        value='NV',\n",
    "        options = [{'label':i,'value':i} for i in state_array]\n",
    "    ),\n",
    "    dcc.Graph(id='myGraph'),\n",
    "])\n",
    "\n",
    "@app.callback(\n",
    "    Output('myGraph','figure'),\n",
    "    [Input('state_choice','value')]\n",
    ")\n",
    "\n",
    "def update_figure(state_choice):\n",
    "    df = plot.loc[plot['state'] == state_choice]\n",
    "    \n",
    "    mapbox_token = 'pk.eyJ1IjoieGlhb2Jhb3Nhbmd1byIsImEiOiJja2hlMjJ0N3MwMTB4MnFxZWFrZWdoa2NmIn0.cwqsW5Zfj_ZOBtun0yQz4A'\n",
    "    px.set_mapbox_access_token(mapbox_token)\n",
    "    \n",
    "    fig = px.scatter_mapbox(df,lat='latitude',lon='longitude',hover_name='name',hover_data=['MaxReview','city'],\\\n",
    "                        color_discrete_sequence=['#FF00FF'],zoom=7,mapbox_style='dark')\n",
    "    \n",
    "    fig.update_layout(\n",
    "        title = 'Popular Restaurants in ' + state_choice,\n",
    "        #autosize = True,\n",
    "        mapbox_style='dark',\n",
    "        mapbox_accesstoken=mapbox_token\n",
    "    )\n",
    "    \n",
    "    return fig\n",
    "    "
   ]
  },
  {
   "cell_type": "code",
   "execution_count": null,
   "metadata": {
    "scrolled": true
   },
   "outputs": [
    {
     "name": "stdout",
     "output_type": "stream",
     "text": [
      "Dash is running on http://127.0.0.1:8055/\n",
      "\n",
      " * Serving Flask app \"__main__\" (lazy loading)\n",
      " * Environment: production\n",
      "   WARNING: This is a development server. Do not use it in a production deployment.\n",
      "   Use a production WSGI server instead.\n",
      " * Debug mode: off\n"
     ]
    },
    {
     "name": "stderr",
     "output_type": "stream",
     "text": [
      " * Running on http://127.0.0.1:8055/ (Press CTRL+C to quit)\n",
      "127.0.0.1 - - [23/Nov/2020 19:54:17] \"\u001b[37mGET / HTTP/1.1\u001b[0m\" 200 -\n",
      "127.0.0.1 - - [23/Nov/2020 19:54:17] \"\u001b[37mGET /_dash-layout HTTP/1.1\u001b[0m\" 200 -\n",
      "127.0.0.1 - - [23/Nov/2020 19:54:17] \"\u001b[37mGET /_dash-dependencies HTTP/1.1\u001b[0m\" 200 -\n",
      "127.0.0.1 - - [23/Nov/2020 19:54:17] \"\u001b[37mGET /_favicon.ico?v=1.17.0 HTTP/1.1\u001b[0m\" 200 -\n",
      "127.0.0.1 - - [23/Nov/2020 19:54:19] \"\u001b[37mPOST /_dash-update-component HTTP/1.1\u001b[0m\" 200 -\n"
     ]
    }
   ],
   "source": [
    "app.run_server(port=8055,debug=False)"
   ]
  },
  {
   "cell_type": "markdown",
   "metadata": {},
   "source": [
    "#### sample output from `http://127.0.0.1:8055/`\n",
    "![alt text](demo_dash.png \"Demo Dash with Map\")"
   ]
  },
  {
   "cell_type": "code",
   "execution_count": null,
   "metadata": {},
   "outputs": [],
   "source": []
  }
 ],
 "metadata": {
  "kernelspec": {
   "display_name": "Python 3",
   "language": "python",
   "name": "python3"
  },
  "language_info": {
   "codemirror_mode": {
    "name": "ipython",
    "version": 3
   },
   "file_extension": ".py",
   "mimetype": "text/x-python",
   "name": "python",
   "nbconvert_exporter": "python",
   "pygments_lexer": "ipython3",
   "version": "3.6.12"
  }
 },
 "nbformat": 4,
 "nbformat_minor": 4
}
